{
 "cells": [
  {
   "cell_type": "markdown",
   "id": "a55dd4f5-260f-4d1c-9732-f25e521620f8",
   "metadata": {},
   "source": [
    "# Digital Contact Tracing - Source Detection Simulator"
   ]
  },
  {
   "cell_type": "markdown",
   "id": "a0db43b8-9d6c-45f7-927e-d4cb835b688c",
   "metadata": {},
   "source": [
    "## Objective\n",
    "\n",
    "The simulator aims to achieve two primary objectives: \n",
    "1) Validate the theoretical detection probability of epidemic centrality on regular trees. \n",
    "2) Compare detection performance of various heuristics on assorted graph structures.\n",
    "\n",
    "The simulator is available at: [https://dctracing.shinyapps.io/DCTracing/](https://dctracing.shinyapps.io/DCTracing/).\n"
   ]
  },
  {
   "cell_type": "markdown",
   "id": "fc8b9a2c-24ff-4afa-9d57-0f1672af33a2",
   "metadata": {},
   "source": [
    "## Methodology\r\n",
    "\r\n",
    "All simulations are based on following procedures:\r\n",
    "\r\n",
    "*Infection Spreading*: This process models the spread of an infectious disease. Given an underlying graph, an initial infected individual (or node), and a specified infection graph size, an infection graph is created in this process. Throughout the process, an 'infection frontier' is sustained. During each iteration, one node in this frontier is randomly chosen to become infected. Consequently, all its replicates are eliminated from the frontier, while all its yet-to-be infected neighbors join the frontier. The process starts with the selection of a node from the underlying graph as the infection's origin and proceeds until the infection graph achieves the prescribed size.\r\n",
    "\r\n",
    "Input: underlying graph - $G$, epidemic source - $v^*$, infection graph size - $N$<br>\r\n",
    "Output: infection graph - $G_N$"
   ]
  },
  {
   "cell_type": "markdown",
   "id": "0c55e8ea-b048-4dca-bafc-78a7e02f07fd",
   "metadata": {},
   "source": [
    "*Source Inferring*: With an infection graph at hand, the goal of source inferring is to deduce the initial infection source. Every node in the infection graph is assigned a score. The node boasting the highest score is inferred to be the source of the infection. In cases where there are ties, a random selection is made. Various estimators/heuristics have their unique ways to compute the scores.\r\n",
    "\r\n",
    "Input: infection graph - $G_N$, underlying graph - $G$<br>\r\n",
    "Output: estimated infection source - $\\hat{v}$"
   ]
  },
  {
   "cell_type": "code",
   "execution_count": 2,
   "id": "86494957-8508-4853-b988-5f333655e033",
   "metadata": {},
   "outputs": [],
   "source": [
    "Dataset = 1223"
   ]
  },
  {
   "cell_type": "markdown",
   "id": "0f7930b3-c320-4bcb-96f5-85007a991d15",
   "metadata": {},
   "source": [
    "{{Dataset}}"
   ]
  },
  {
   "cell_type": "markdown",
   "id": "ee3cbaaa-0f4a-4406-aa71-c6e41ee94322",
   "metadata": {},
   "source": [
    "## Simulations"
   ]
  },
  {
   "cell_type": "markdown",
   "id": "962fcdb5-de78-4254-85ac-32a654fc77d6",
   "metadata": {},
   "source": [
    ":::{iframe} https://dctracing.shinyapps.io/DCTracing/\n",
    ":width: 100%\n",
    ":height: 100%\n",
    ":::"
   ]
  },
  {
   "cell_type": "markdown",
   "id": "04251994-bcfb-4eec-972e-edecc05d9649",
   "metadata": {},
   "source": [
    "## Challenges\n",
    "\n",
    "1. Due to the limited computational resources, we can only compute the epidemic centrality for an infection graph with a maximum of 100 nodes.\n",
    "2. To handle general graphs that contain cycles, building BFS from every node in the infection graph requires $O(N^3)$, where $N$ is the infection graph size. This can be problematic when dealing with a large-scale infection graph."
   ]
  },
  {
   "cell_type": "markdown",
   "id": "8b2d5d0d-40af-4ad9-9c82-c421ef1d7a7a",
   "metadata": {},
   "source": [
    ":::{important}\n",
    "\n",
    "*Algorithmic Complexity*: The rumor centrality algorithm for general graphs, as presented in [Shah, 2011](https://doi.org/10.1109/TIT.2011.2158885), has a time complexity of $O(N^3)$. This complexity is influenced by the worst-case scenario where a graph has $\\dfrac{(N-1)N}{2}$ edges, which is the maximum number of edges for a simple undirected graph with $N$ nodes. However, this $O(N^3)$ time complexity does not mean the algorithm exhaustively evaluates all possible configurations of the graph.\n",
    "\n",
    "*Scalability in Numerical Simulations*: While the algorithm's time complexity is polynomial, a significant challenge arises in numerical simulations due to the inherent combinatorial nature of the problem. Specifically, considering all permitted permutations results in $N!$ possible configurations. As $N!$ grows extremely fast with increasing $N$, simulations may quickly become computationally infeasible, leading to scalability issues.\n",
    "\n",
    "This distinction clarifies that while the algorithm operates with polynomial time complexity, the inherent problem size, especially in the context of numerical simulations, can lead to scalability challenges.\n",
    "\n",
    ":::"
   ]
  },
  {
   "cell_type": "code",
   "execution_count": null,
   "id": "3112e516-13a7-4789-add0-ce3f10ebb630",
   "metadata": {},
   "outputs": [],
   "source": []
  },
  {
   "cell_type": "code",
   "execution_count": null,
   "id": "e2a90129-2f2e-4449-b497-a9f2b5c6c293",
   "metadata": {},
   "outputs": [],
   "source": []
  },
  {
   "cell_type": "code",
   "execution_count": null,
   "id": "23447232-cf7f-4566-ab4f-a8dcf1e276f1",
   "metadata": {},
   "outputs": [],
   "source": [
    "pip install jupyter_contrib_nbextensions"
   ]
  },
  {
   "cell_type": "code",
   "execution_count": null,
   "id": "56fca629-87c1-4301-80bd-f8ca11ab047c",
   "metadata": {},
   "outputs": [],
   "source": [
    "!jupyter contrib nbextension install --user"
   ]
  },
  {
   "cell_type": "code",
   "execution_count": null,
   "id": "a684bda5-607f-44f1-a9b1-cfff828828a4",
   "metadata": {},
   "outputs": [],
   "source": [
    "!jupyter nbextension enable python-markdown/main"
   ]
  },
  {
   "cell_type": "code",
   "execution_count": 1,
   "id": "ef651f42-0fab-48bb-ad23-6d40f70b2a20",
   "metadata": {},
   "outputs": [],
   "source": [
    "a = 1234"
   ]
  },
  {
   "cell_type": "markdown",
   "id": "a86584b7-3bb1-4f42-a0c2-b90195c8b109",
   "metadata": {},
   "source": [
    "a is {{a}}"
   ]
  },
  {
   "cell_type": "markdown",
   "id": "51480abb-bd34-4b6a-9bbb-8ca1d24b150b",
   "metadata": {},
   "source": [
    "?D=10&S=1&M=1&I=2&R=0.5&C=bcd"
   ]
  },
  {
   "cell_type": "code",
   "execution_count": 2,
   "id": "1169ae59-d41a-426c-ae4d-61220a7e42ed",
   "metadata": {},
   "outputs": [
    {
     "name": "stdout",
     "output_type": "stream",
     "text": [
      "usage: jupyter [-h] [--version] [--config-dir] [--data-dir] [--runtime-dir]\n",
      "               [--paths] [--json] [--debug]\n",
      "               [subcommand]\n",
      "\n",
      "Jupyter: Interactive Computing\n",
      "\n",
      "positional arguments:\n",
      "  subcommand     the subcommand to launch\n",
      "\n",
      "options:\n",
      "  -h, --help     show this help message and exit\n",
      "  --version      show the versions of core jupyter packages and exit\n",
      "  --config-dir   show Jupyter config dir\n",
      "  --data-dir     show Jupyter data dir\n",
      "  --runtime-dir  show Jupyter runtime dir\n",
      "  --paths        show all Jupyter paths. Add --json for machine-readable\n",
      "                 format.\n",
      "  --json         output paths as machine-readable json\n",
      "  --debug        output debug information about paths\n",
      "\n",
      "Available subcommands: dejavu events execute fileid kernel kernelspec lab\n",
      "labextension labhub migrate nbclassic nbconvert notebook run server\n",
      "troubleshoot trust\n",
      "\n",
      "Jupyter command `jupyter-nbextension` not found.\n"
     ]
    }
   ],
   "source": [
    "!jupyter nbextension enable python-markdown/main"
   ]
  },
  {
   "cell_type": "code",
   "execution_count": null,
   "id": "666feab2-8c15-4406-9c76-9edee9b57137",
   "metadata": {},
   "outputs": [],
   "source": [
    "pip install --upgrade notebook==6.4.12"
   ]
  },
  {
   "cell_type": "code",
   "execution_count": null,
   "id": "1046cf71-6560-4be6-b7c5-e0a75c1bd078",
   "metadata": {},
   "outputs": [],
   "source": [
    "!jupyter contrib nbextension install --user"
   ]
  },
  {
   "cell_type": "code",
   "execution_count": null,
   "id": "d4013fab-9820-4244-96f5-41aa6cdb0d9e",
   "metadata": {},
   "outputs": [],
   "source": [
    "pip install jupyter_contrib_nbextensions"
   ]
  },
  {
   "cell_type": "code",
   "execution_count": null,
   "id": "9badeebc-a775-4fc2-82b4-6211074d1b24",
   "metadata": {},
   "outputs": [],
   "source": [
    "jupyter contrib nbextension install --user"
   ]
  },
  {
   "cell_type": "code",
   "execution_count": null,
   "id": "2b8da434-9a0b-4e89-8ed3-55933d6bde70",
   "metadata": {},
   "outputs": [],
   "source": [
    "pip install jupyter_nbextensions_configurator"
   ]
  },
  {
   "cell_type": "code",
   "execution_count": null,
   "id": "563b5cba-4978-4dc7-a7bd-d19fa3bca3ac",
   "metadata": {},
   "outputs": [],
   "source": [
    "pip install jupyter_contrib_nbextensions"
   ]
  }
 ],
 "metadata": {
  "kernelspec": {
   "display_name": "dct",
   "language": "python",
   "name": "dct"
  },
  "language_info": {
   "codemirror_mode": {
    "name": "ipython",
    "version": 3
   },
   "file_extension": ".py",
   "mimetype": "text/x-python",
   "name": "python",
   "nbconvert_exporter": "python",
   "pygments_lexer": "ipython3",
   "version": "3.7.12"
  }
 },
 "nbformat": 4,
 "nbformat_minor": 5
}
