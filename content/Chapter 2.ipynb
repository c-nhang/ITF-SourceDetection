{
  "metadata": {
    "kernelspec": {
      "name": "python",
      "display_name": "Python (Pyodide)",
      "language": "python"
    },
    "language_info": {
      "codemirror_mode": {
        "name": "python",
        "version": 3
      },
      "file_extension": ".py",
      "mimetype": "text/x-python",
      "name": "python",
      "nbconvert_exporter": "python",
      "pygments_lexer": "ipython3",
      "version": "3.8"
    }
  },
  "nbformat_minor": 5,
  "nbformat": 4,
  "cells": [
    {
      "cell_type": "markdown",
      "source": "# Chapter 2: Digital Contact Tracing - Source Detection Simulator",
      "metadata": {
        "user_expressions": [],
        "trusted": true
      },
      "id": "a55dd4f5-260f-4d1c-9732-f25e521620f8"
    },
    {
      "cell_type": "markdown",
      "source": "## Objective\n\nThe simulator aims to achieve two primary objectives: \n1) Validate the theoretical detection probability of epidemic centrality on regular trees. \n2) Compare detection performance of various heuristics on assorted graph structures.\n\nThe simulator is available at: [https://dctracing.shinyapps.io/DCTracing/](https://dctracing.shinyapps.io/DCTracing/).\n",
      "metadata": {},
      "id": "a0db43b8-9d6c-45f7-927e-d4cb835b688c"
    },
    {
      "cell_type": "markdown",
      "source": "## Methodology\n\nAll simulations are based on following procedures:\n\n*Infection Spreading*: This process models the spread of an infectious disease. Given an underlying graph, an initial infected individual (or node), and a specified infection graph size, an infection graph is created in this process. Throughout the process, an 'infection frontier' is sustained. During each iteration, one node in this frontier is randomly chosen to become infected. Consequently, all its replicates are eliminated from the frontier, while all its yet-to-be infected neighbors join the frontier. The process starts with the selection of a node from the underlying graph as the infection's origin and proceeds until the infection graph achieves the prescribed size.\n\nInput: underlying graph - $G$, epidemic source - $v^*$, infection graph size - $N$<br>\nOutput: infection graph - $G_N$",
      "metadata": {},
      "id": "fc8b9a2c-24ff-4afa-9d57-0f1672af33a2"
    },
    {
      "cell_type": "markdown",
      "source": "*Source Inferring*: With an infection graph at hand, the goal of source inferring is to deduce the initial infection source. Every node in the infection graph is assigned a score. The node boasting the highest score is inferred to be the source of the infection. In cases where there are ties, a random selection is made. Various estimators/heuristics have their unique ways to compute the scores.\n\nInput: infection graph - $G_N$, underlying graph - $G$<br>\nOutput: estimated infection source - $\\hat{v}$",
      "metadata": {},
      "id": "0c55e8ea-b048-4dca-bafc-78a7e02f07fd"
    },
    {
      "cell_type": "markdown",
      "source": "## Simulations",
      "metadata": {},
      "id": "ee3cbaaa-0f4a-4406-aa71-c6e41ee94322"
    },
    {
      "cell_type": "markdown",
      "source": ":::{iframe} https://dctracing.shinyapps.io/DCTracing/\n:width: 100%\n:height: 100%\n:::",
      "metadata": {
        "user_expressions": [],
        "trusted": true
      },
      "id": "962fcdb5-de78-4254-85ac-32a654fc77d6"
    },
    {
      "cell_type": "markdown",
      "source": "## Challenges\n\n1. Due to the limited computational resources, we can only compute the epidemic centrality for an infection graph with a maximum of 100 nodes.\n2. To handle general graphs that contain cycles, building BFS from every node in the infection graph requires $O(N^3)$, where $N$ is the infection graph size. This can be problematic when dealing with a large-scale infection graph.",
      "metadata": {},
      "id": "04251994-bcfb-4eec-972e-edecc05d9649"
    },
    {
      "cell_type": "markdown",
      "source": ":::{important}\n\n*Algorithmic Complexity*: The rumor centrality algorithm for general graphs, as presented in [Shah, 2011](https://doi.org/10.1109/TIT.2011.2158885), has a time complexity of $O(N^3)$. This complexity is influenced by the worst-case scenario where a graph has $\\dfrac{(N-1)N}{2}$ edges, which is the maximum number of edges for a simple undirected graph with $N$ nodes. However, this $O(N^3)$ time complexity does not mean the algorithm exhaustively evaluates all possible configurations of the graph.\n\n*Scalability in Numerical Simulations*: While the algorithm's time complexity is polynomial, a significant challenge arises in numerical simulations due to the inherent combinatorial nature of the problem. Specifically, considering all permitted permutations results in $N!$ possible configurations. As $N!$ grows extremely fast with increasing $N$, simulations may quickly become computationally infeasible, leading to scalability issues.\n\nThis distinction clarifies that while the algorithm operates with polynomial time complexity, the inherent problem size, especially in the context of numerical simulations, can lead to scalability challenges.\n\n:::",
      "metadata": {
        "user_expressions": [],
        "trusted": true
      },
      "id": "8b2d5d0d-40af-4ad9-9c82-c421ef1d7a7a"
    },
    {
      "cell_type": "markdown",
      "source": "### References\n\n1. Hang, C. N., Yu, P. D., Chen, S., Tan, C. W., & Chen, G. (2023). MEGA: Machine Learning-Enhanced Graph Analytics for Infodemic Risk Management. IEEE Journal of Biomedical and Health Informatics.\n2. Hang, C. N., Tsai, Y. Z., Yu, P. D., Chen, J., & Tan, C. W. (2023). Privacy-Enhancing Digital Contact Tracing with Machine Learning for Pandemic Response: A Comprehensive Review. Big Data and Cognitive Computing, 7(2), 108.\n3. Fei, Z., Ryeznik, Y., Sverdlov, O., Tan, C. W., & Wong, W. K. (2021). An overview of healthcare data analytics with applications to the COVID-19 pandemic. IEEE Transactions on Big Data, 8(6), 1463-1480.",
      "metadata": {
        "user_expressions": [],
        "trusted": true
      },
      "id": "12edb0e3-6be1-4f91-94b6-81d6a5097be6"
    }
  ]
}