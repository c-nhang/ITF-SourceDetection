{
  "metadata": {
    "kernelspec": {
      "name": "python",
      "display_name": "Python (Pyodide)",
      "language": "python"
    },
    "language_info": {
      "codemirror_mode": {
        "name": "python",
        "version": 3
      },
      "file_extension": ".py",
      "mimetype": "text/x-python",
      "name": "python",
      "nbconvert_exporter": "python",
      "pygments_lexer": "ipython3",
      "version": "3.8"
    }
  },
  "nbformat_minor": 5,
  "nbformat": 4,
  "cells": [
    {
      "cell_type": "markdown",
      "source": "# Distance-based Source Estimator\n\nDistance centrality is a proven suboptimal heuristic to approximate the optimal solution ([Shah, 2011](https://doi.org/10.1109/TIT.2011.2158885)). It achieves the optimal solution for degree-regular trees, like rumor centrality. Our proposed method computes the distance center faster by reducing the number of BFSs invoked on the graph, demonstrating that distance centrality is a more efficient measure of influence on undirected graphs.\n\nLet $G=(V(G), E(G))$ be a simple connected graph. Denote the shortest distance between two vertices, say $u$ and $v$, by $dist(u,v)$. The distance centrality of a vertex $v\\in V(G)$, $S(v, G)$, is defined as \n$$\n    S(v,G) = \\displaystyle\\sum_{w\\in V(G)}dist(v, w).\n$$\nThe distance center, $C_{dist}(G)$, of $G$ is a vertex with the smallest distance centrality.",
      "metadata": {},
      "id": "a252cb6f-ae37-4c2c-8e50-854e9a2488fa"
    },
    {
      "cell_type": "code",
      "source": "class Node:\n    def __init__(self, nodeId, dis):\n        self.nodeId = nodeId\n        self.dis = dis\n        self.exact = False\n        \n    def updateLower(self, lowerBound):\n        if lowerBound > self.dis:\n            self.dis = lowerBound\n        \n    def updateDis(self, dis):\n        self.dis = dis\n        self.exact = True\n    \n    def isExact(self):\n        return self.exact\n    \n    def returnNodeId(self):\n        return self.nodeId\n    \n    def returnDis(self):\n        return self.dis\n\nclass PriorityQueue(object): \n    def __init__(self):\n        self.queue = [] \n  \n    def __str__(self):\n        return ' '.join([str(i) for i in self.queue]) \n  \n    # for checking if the queue is empty \n    def isEmpty(self):\n        return len(self.queue) == [] \n  \n    # for inserting an element in the queue \n    def insert(self, data):\n        self.queue.append(data) \n  \n    # for popping an element based on Priority \n    def extractMin(self):\n        try: \n            minS = 0\n            for i in range(len(self.queue)): \n                if self.queue[i].returnDis() < self.queue[minS].returnDis(): \n                    minS = i \n            item = self.queue[minS] \n            del self.queue[minS]\n            return item \n        except IndexError: \n            print() \n            exit() \n            \ndef getMinDegreeV(G):\n    #node_degree_dict = {}\n    minDeg = 99999999\n    minDegV = -1\n    for NI in G.Nodes():\n        if NI.GetDeg() < minDeg:\n            minDegV = NI.GetId()\n    return minDegV\n\ndef calLowerBound(G):\n    global nodesList\n    seed = G.GetRndNId()\n    #print(seed)\n    #seed = 107\n    \n    #find the min degree vertex\n    seed = getMinDegreeV(G)\n    largestDisFromSeed = snap.GetNodeEcc(G,seed, False)\n    NodeNum, NodeVec = G.GetNodesAtHop(seed, largestDisFromSeed, False)\n    seed = NodeVec[0]\n    \n    #BfsTree = snap.GetBfsTree(G, seed, False, False)\n    myQueueLower = PriorityQueue()\n    myQueueUpper = PriorityQueue()\n    C = {}\n    j = 1\n    Sv = 0\n    while True:\n        s = snap.TIntV()\n        snap.GetNodesAtHop(G, seed, j, s, True)\n        if len(s) != 0:\n            C[j] = s\n            Sv = Sv + len(s) * j\n            j = j + 1\n        else:\n            break\n    root = Node(seed, Sv)\n    nodesList[seed] = root\n    myQueueLower.insert(root)\n    '''print 0, \" \", seed\n    for cluster in C:\n        for nodeId in C[cluster]:\n            print cluster, \" \", nodeId, \" \", C[cluster].Len()'''\n    maxL = len(C)\n    for i in range(1, maxL + 1):\n        sumLevel = i\n        for j in range(1, maxL + 1):\n            if abs(i - j) < 1 or abs(i - j) == 1:\n                sumLevel = sumLevel + 2 * C[j].Len()\n            else:\n                sumLevel = sumLevel + abs(i - j) * C[j].Len()\n        for nodeId in C[i]:\n            deg = G.GetNI(nodeId).GetDeg()\n            lowerBound = sumLevel - deg - 2\n            currNode = Node(nodeId, lowerBound)\n            nodesList[nodeId] = currNode\n            myQueueLower.insert(currNode)\n    return myQueueLower\n\ndef ExactTotalDis(G, node):\n    #print \"src \", node.returnNodeId()\n    j = 1\n    Sv = 0\n    while True:\n        s = snap.TIntV()\n        snap.GetNodesAtHop(G, node.returnNodeId(), j, s, True)\n        if len(s) != 0:\n            Sv = Sv + len(s) * j\n            global edgeVisited\n            edgeVisited = edgeVisited + len(s)\n            print(len(s))\n            j = j + 1\n        else:\n            break\n    return Sv\n\ndef UpdateLowerBound(seed, G):\n    global nodesList\n    C = {}\n    j = 1\n    Sv = 0\n    while True:\n        s = snap.TIntV()\n        snap.GetNodesAtHop(G, seed, j, s, True)\n        if len(s) != 0:\n            C[j] = s\n            Sv = Sv + len(s) * j\n            global edgeVisited\n            edgeVisited = edgeVisited + len(s)\n            j = j + 1\n        else:\n            break\n    nodesList[seed].updateDis(Sv)\n    maxL = len(C)\n    for i in range(1, maxL + 1):\n        sumLevel = i\n        for j in range(1, maxL + 1):\n            if abs(i - j) < 1 or abs(i - j) == 1:\n                sumLevel = sumLevel + 2 * C[j].Len()\n            else:\n                sumLevel = sumLevel + abs(i - j) * C[j].Len()\n        for nodeId in C[i]:\n            deg = G.GetNI(nodeId).GetDeg()\n            lowerBound = sumLevel - deg - 2\n            nodesList[nodeId].updateLower(lowerBound)\n\ndef Pruning(Gp):\n    G = snap.ConvertGraph(type(Gp), Gp)\n    M = 1\n    N = Gp.GetNodes()\n    T = {}\n    D = {}\n    for node in Gp.Nodes():\n        nodeId = node.GetId()\n        T[nodeId] = 1\n        D[nodeId] = 0\n        \n    continuePruning = True    \n    while continuePruning:\n        continuePruning = False\n        for node in Gp.Nodes():\n            nodeId = node.GetId()\n            deg = node.GetDeg()\n            if deg == M and N > 1:\n                parent = node.GetNbrNId(0)\n                T[parent] = T[parent] + T[nodeId]\n                D[parent] = D[parent] + T[nodeId] + D[nodeId]\n                continuePruning = True\n                Gp.DelNode(nodeId)\n                N = N - 1\n    #print(T)\n    #print(D)\n\nimport pandas as pd\nimport snap\nimport time\n\nedgeVisited = 0\nnodesList = {}\n\nif __name__ == '__main__':\n    graphDF = pd.read_csv('tweets_graph.csv', encoding = \"latin-1\")\n\n    allNamesList = []     \n    for index, row in graphDF.iterrows():\n        src = row['Src']\n        dst = row['Dst']\n        allNamesList.append(src)\n        allNamesList.append(dst)\n\n    allNamesList = list(set(allNamesList))\n\n    indexToNameDict = {}\n    for index, val in enumerate(allNamesList):\n        indexToNameDict[index] = val\n\n    NameToIndexDict = {}\n    for index, val in enumerate(allNamesList):\n        NameToIndexDict[val] = index\n\n    srcList = []\n    complete_G = snap.TUNGraph.New()\n    for index, row in graphDF.iterrows():\n        src = row['Src']\n        dst = row['Dst']\n        src = NameToIndexDict[src]\n        dst = NameToIndexDict[dst]\n        if not complete_G.IsNode(src):\n            complete_G.AddNode(src)\n        if not complete_G.IsNode(dst):\n            complete_G.AddNode(dst)\n        complete_G.AddEdge(src, dst)\n        srcList.append(src)\n\n    for NI in complete_G.Nodes():\n        NID = NI.GetId()\n        if complete_G.IsEdge(NID, NID):\n            complete_G.DelEdge(NID, NID)\n    \n    oldV = complete_G.GetNodes()\n    oldE = complete_G.GetEdges()\n\n    max_cc_G = complete_G.GetMxScc()\n    ccOldV = max_cc_G.GetNodes()\n    ccOldE = max_cc_G.GetEdges()\n            \n    tStart = time.time()\n    \n    Pruning(max_cc_G)\n    newV = max_cc_G.GetNodes()\n    newE = max_cc_G.GetEdges()\n\n    queue = calLowerBound(max_cc_G)\n    numBFS = 1\n    while True:\n        minNode = queue.extractMin()\n        if minNode.isExact() == True:\n            print(minNode.returnNodeId(), \" \", minNode.returnDis())\n            break\n        else:\n            lowerBound = minNode.returnDis()\n            UpdateLowerBound(minNode.returnNodeId(), max_cc_G)\n            numBFS = numBFS + 1\n            #print(lowerBound, \" \", minNode.returnDis())\n            if minNode.returnDis() == lowerBound:\n                print(minNode.returnNodeId(), \" \", minNode.returnDis())\n                break\n            else:\n                queue.insert(minNode)\n    tEnd = time.time()\n    speedup = (ccOldV * ccOldE)/(edgeVisited + (ccOldV - newV))\n    print(tEnd - tStart)\n    print(speedup)",
      "metadata": {},
      "execution_count": null,
      "outputs": [],
      "id": "a86bf27d-67dd-4ede-b392-0f7ef9556702"
    },
    {
      "cell_type": "code",
      "source": "",
      "metadata": {},
      "execution_count": null,
      "outputs": [],
      "id": "e91cc0df-6e98-4864-9fb3-c340298709ab"
    },
    {
      "cell_type": "markdown",
      "source": "### References\n\n1. Shah, D., & Zaman, T. (2011). Rumors in a network: Who's the culprit?. IEEE Transactions on information theory, 57(8), 5163-5181.\n2. Hang, C. N., Yu, P. D., Chen, S., Tan, C. W., & Chen, G. (2023). MEGA: Machine Learning-Enhanced Graph Analytics for Infodemic Risk Management. IEEE Journal of Biomedical and Health Informatics.",
      "metadata": {
        "user_expressions": [],
        "trusted": true
      },
      "id": "d643dafd-b660-4248-b44a-03abeddf3e46"
    }
  ]
}