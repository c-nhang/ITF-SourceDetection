{
 "cells": [
  {
   "cell_type": "markdown",
   "id": "4f20b8f1-ae73-48d9-a508-9e6b403e72ea",
   "metadata": {},
   "source": [
    "# Network Centrality"
   ]
  },
  {
   "cell_type": "markdown",
   "id": "f1f48510-220a-4ba1-9e92-c2f5780a7a7c",
   "metadata": {},
   "source": [
    "## Definition\n",
    "Network centrality is a fundamental concept in the study of complex networks, which captures the importance or influence of nodes within a network ([Borgatti, 2005](https://doi.org/10.1016/j.socnet.2004.11.008)). Whether it is understanding key influencers within social networks, identifying critical servers in computer networks, or pinpointing major hubs in transportation systems, centrality measures provide a way to rank nodes based on their relative significance."
   ]
  },
  {
   "cell_type": "markdown",
   "id": "a65ecc05-f7ff-467c-b58e-4ae73c91b950",
   "metadata": {},
   "source": [
    "Various metrics have been developed to measure centrality, with each offering a unique perspective on node importance. In this project, we focus on the following centrality measures:\n",
    "*Betweenness Centrality*, *Closeness Centrality*, *Degree Centrality*, *Eccentricity*, *Rumor Centrality*, and *Epidemic Centrality*."
   ]
  },
  {
   "cell_type": "markdown",
   "id": "8286b199-05e3-4972-b830-18ebfc0113df",
   "metadata": {},
   "source": [
    ":::{note}\n",
    "\n",
    "This project focuses only on the undirected graphs.\n",
    "\n",
    ":::"
   ]
  },
  {
   "cell_type": "markdown",
   "id": "316bf993-3912-4545-bee1-9046b446bc99",
   "metadata": {},
   "source": [
    "## Betweenness Centrality\n",
    "\n",
    "Betweenness centrality measures the number of times a node acts as a bridge along the shortest path between two other nodes. It captures nodes that serve as critical connectors or intermediaries. The betweenness centrality for a node $v$ is defined as:"
   ]
  },
  {
   "cell_type": "markdown",
   "id": "650165c5-1ca4-4aaa-8703-7fbb685165d5",
   "metadata": {},
   "source": [
    "$$\r\n",
    "C_B(v) = \\sum_{s \\neq v \\neq t} \\frac{\\sigma_{st}(v)}{\\sigma_{st}}\r\n",
    ",$$\r\n"
   ]
  },
  {
   "cell_type": "markdown",
   "id": "2016eca3-d4a3-420d-ad61-4d398ea1c9ec",
   "metadata": {},
   "source": [
    "where $C_B(v)$ is the betweenness centrality of node $v$, $\\sigma_{st}$ is the total number of shortest paths from node $s$ to node $t$, and $\\sigma_{st}(v)$ is the number of those paths that pass through node $v$.\n",
    "\n",
    "### Betweenness Center\n",
    "\n",
    "In graph theory, the \"betweenness center\" refers to the concept of betweenness centrality. Specifically, the betweenness center of a graph represents the set of nodes with the highest betweenness centrality. This signifies that nodes in the betweenness center act as the primary bridges or intermediaries on the greatest number of shortest paths between other nodes.\n",
    "\n",
    "Mathematically, if we denote $C_B(v)$ as the betweenness centrality of node $v$, the betweenness center $B_C$ of a graph $G$ can be defined as:\n",
    "\n",
    "$$\n",
    "B_C = \\{ v \\in G : C_B(v) = \\max_{u \\in G} C_B(u) \\}.\n",
    "$$\n",
    "\n",
    "Put simply, the betweenness center encompasses nodes whose betweenness centrality equals the highest betweenness centrality observed in the graph. These nodes play pivotal roles as connectors or pathways in the network's structure.\n"
   ]
  },
  {
   "cell_type": "markdown",
   "id": "da830cf3-3a38-4db9-b5d3-04ebd8bd6a78",
   "metadata": {},
   "source": [
    "## Closeness Centrality\n",
    "\n",
    "Closeness centrality focuses on the average distance from a node to all other nodes in the network. Nodes with higher closeness centrality can quickly interact with others. The closeness centrality for a node $v$ is typically given by the inverse of the sum of the shortest path distances from $v$ to all other nodes:"
   ]
  },
  {
   "cell_type": "markdown",
   "id": "13a11750-c817-4914-a888-fec5612364c7",
   "metadata": {},
   "source": [
    "$$\r\n",
    "C_C(v) = \\frac{1}{\\sum_{u \\neq v} d(v, u)}\r\n",
    ",$$\r\n"
   ]
  },
  {
   "cell_type": "markdown",
   "id": "ef6949ab-c73e-4a31-8152-720291524a28",
   "metadata": {},
   "source": [
    "where $C_C(v)$ is the closeness centrality of node $v$, and $d(v, u)$ is the shortest-path distance between nodes $v$ and $u$.\n",
    "\n",
    "### Closeness Center\n",
    "\n",
    "In graph theory, the \"closeness center\" is associated with the concept of closeness centrality. The closeness center of a graph identifies the set of nodes that have the highest closeness centrality. This means that nodes in the closeness center are at the shortest average distance to all other nodes in the graph, facilitating swift interactions or communications.\n",
    "\n",
    "Mathematically, if we define $C_C(v)$ as the closeness centrality of node $v$, the closeness center $S_C$ of a graph $G$ can be described as:\n",
    "\n",
    "$$\n",
    "S_C = \\{ v \\in G : C_C(v) = \\max_{u \\in G} C_C(u) \\}.\n",
    "$$\n",
    "\n",
    "In essence, the closeness center comprises nodes whose closeness centrality is equivalent to the highest closeness centrality found within the graph. These nodes are considered \"central\" due to their capability to rapidly reach or be reached by any other node in the network."
   ]
  },
  {
   "cell_type": "markdown",
   "id": "4df72201-cc8a-49f8-8ca6-d0b70014612a",
   "metadata": {},
   "source": [
    "## Degree Centrality\n",
    "\n",
    "Degree centrality is based on the number of connections a node has. In social networks, a person with many contacts may be considered influential. Degree Centrality for a node $v$ is straightforwardly determined by the number of edges connected to that node. In an undirected graph, degree centrality for node $v$ is given by:"
   ]
  },
  {
   "cell_type": "markdown",
   "id": "f0a0d8c1-afc5-4307-87c0-face0ba0cfc3",
   "metadata": {},
   "source": [
    "$$\r\n",
    "C_D(v) = \\deg(v)\r\n",
    ",$$\r\n"
   ]
  },
  {
   "cell_type": "markdown",
   "id": "02d57c42-c8e1-4a9e-9ba7-3b642fcc64b6",
   "metadata": {},
   "source": [
    "where $C_D(v)$ is the degree centrality of node $v$, and $\\deg(v)$ is the degree of node $v$, i.e., the number of edges connected to $v$.\n",
    "\n",
    "### Degree Center\n",
    "\n",
    "In the context of graph theory, the \"degree center\" corresponds to the idea of node degree. For an undirected graph, the degree center comprises the nodes with the highest degree, meaning they have the most connections or edges to other nodes. In directed graphs, we might differentiate between nodes with the highest in-degree (most incoming edges) and those with the highest out-degree (most outgoing edges). Regardless of the distinction, nodes in the degree center are the most connected within the network.\n",
    "\n",
    "Mathematically, if $\\deg(v)$ symbolizes the degree of node $v$, the degree center $D_C$ of a graph $G$ is articulated as:\n",
    "\n",
    "$$\n",
    "D_C = \\{ v \\in G : \\deg(v) = \\max_{u \\in G} \\deg(u) \\}.\n",
    "$$\n",
    "\n",
    "In summary, the degree center embodies nodes whose degree matches the highest degree observed in the graph. These nodes occupy a central position in the network due to their extensive connectivity.\n"
   ]
  },
  {
   "cell_type": "markdown",
   "id": "2e7caeb1-dd45-4c86-bd66-d14f4659405f",
   "metadata": {},
   "source": [
    "## Eccentricity\n",
    "\n",
    "Eccentricity represents the maximum distance from a node to all other nodes in the network. It gives a sense of how far a node is from the most distant other node in the network. Nodes with lower eccentricity are typically more central. The eccentricity of a node $v$ in a graph is the greatest shortest-path distance from $v$ to any other node:"
   ]
  },
  {
   "cell_type": "markdown",
   "id": "a34568f7-491f-45eb-a40c-7881f9de27e7",
   "metadata": {},
   "source": [
    "$$\r\n",
    "e(v) = \\max_{u \\in V} d(v, u)\r\n",
    ",$$\r\n"
   ]
  },
  {
   "cell_type": "markdown",
   "id": "7abe2524-b076-4dcc-94b6-be13c4ee1b98",
   "metadata": {},
   "source": [
    "where $e(v)$ is the eccentricity of node $v$, $d(v, u)$ is the shortest-path distance between nodes $v$ and $u$, and $V$ is the set of all nodes in the graph."
   ]
  },
  {
   "cell_type": "markdown",
   "id": "5d7bcec3-7413-466e-92e4-cb251d7518b0",
   "metadata": {},
   "source": [
    "### Jordan Center\n",
    "\n",
    "In graph theory, the \"Jordan center\" pertains to the concept of eccentricity. The Jordan center of a graph is the set of nodes with the smallest eccentricity. This means that nodes in the Jordan center are the most \"central\" in terms of having the shortest maximum distance to all other nodes in the graph.\n",
    "\n",
    "Mathematically, if we let $e(v)$ represent the eccentricity of node $v$, the Jordan center $J_C$ of a graph $G$ is defined as:\n",
    "\n",
    "$$\n",
    "J_C = \\{ v \\in G : e(v) = \\min_{u \\in G} e(u) \\}.\n",
    "$$\n",
    "\n",
    "In essence, the Jordan center consists of nodes whose eccentricity matches the smallest eccentricity in the graph. These nodes are considered \"central\" because their greatest distance to any other node is minimized compared to all other nodes in the graph.\n"
   ]
  },
  {
   "cell_type": "markdown",
   "id": "c497123e-7ee5-47f1-896b-6a4fcb049fef",
   "metadata": {},
   "source": [
    "## Rumor Centrality\n",
    "\n",
    "Originating from the study of information spread in networks, rumor centrality identifies the most likely origin of a rumor or information cascade in a network. It's based on the principle that nodes that can spread information more effectively are more central.\n",
    "\n",
    "Assume that a rumor was spread on an online social network according to the *susceptible-infected* (SI) model. Given a rumor subgraph (all vertices in the subgraph knew the rumor), how to accurately identify the rumor culprit?\n",
    "\n",
    "The rumor spreading follows the SI model, in which once a vertex is \"infected\", it stays in this state forever. Let $V_I$ denote the set of vertices such that each vertex in $V_I$ has at least one infected neighbor. In each time slot, one vertex is uniformly chosen from $V_I$ to be the next infected vertex. Given a snapshot of $N$ infected vertices $G_N$, we want to find\n",
    "$$\n",
    "R_C = \\arg \\max_{v\\in G_N}P(G_N|v),\n",
    "$$\n",
    "where $R_C$ is the rumor center and $P(G_N|v)$ is the probability of having $G_N$ under the SI model assuming $v$ is the rumor source."
   ]
  },
  {
   "cell_type": "markdown",
   "id": "12dcdd2e-516a-4e40-be2e-86c2b04e025f",
   "metadata": {},
   "source": [
    ":::{note}\n",
    "We only focus on using the graphical structure of $G_N$ to compute $R_C$ in this project.\n",
    ":::"
   ]
  },
  {
   "cell_type": "markdown",
   "id": "f2f3a75e-9c2e-4def-96c8-19ec82e9f3e3",
   "metadata": {},
   "source": [
    "## Epidemic Centrality\n",
    "\n",
    "Epidemic centrality generalizes the rumor centrality to graphs with cycles and can be computed by a message-passing algorithm."
   ]
  },
  {
   "cell_type": "code",
   "execution_count": null,
   "id": "bcf95a14-42e7-4f43-8fa2-86531b78af8d",
   "metadata": {},
   "outputs": [],
   "source": []
  }
 ],
 "metadata": {
  "kernelspec": {
   "display_name": "dct",
   "language": "python",
   "name": "dct"
  },
  "language_info": {
   "codemirror_mode": {
    "name": "ipython",
    "version": 3
   },
   "file_extension": ".py",
   "mimetype": "text/x-python",
   "name": "python",
   "nbconvert_exporter": "python",
   "pygments_lexer": "ipython3",
   "version": "3.7.12"
  }
 },
 "nbformat": 4,
 "nbformat_minor": 5
}
