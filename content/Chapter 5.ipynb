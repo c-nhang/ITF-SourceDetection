{
  "metadata": {
    "language_info": {
      "codemirror_mode": {
        "name": "python",
        "version": 3
      },
      "file_extension": ".py",
      "mimetype": "text/x-python",
      "name": "python",
      "nbconvert_exporter": "python",
      "pygments_lexer": "ipython3",
      "version": "3.8"
    },
    "kernelspec": {
      "name": "python",
      "display_name": "Python (Pyodide)",
      "language": "python"
    }
  },
  "nbformat_minor": 4,
  "nbformat": 4,
  "cells": [
    {
      "cell_type": "markdown",
      "source": "# Chapter 5: Limitations of the Project",
      "metadata": {
        "user_expressions": [],
        "trusted": true
      }
    },
    {
      "cell_type": "markdown",
      "source": "The endeavor to develop effective data analytics for rumor source detection and faked news invalidation against the backdrop of an infodemic brings with it several limitations. It is important to acknowledge these constraints to set realistic expectations and to identify areas for future improvement. This chapter outlines the limitations encountered during the project.",
      "metadata": {
        "user_expressions": [],
        "trusted": true
      }
    },
    {
      "cell_type": "markdown",
      "source": "## JupyterLite Compatibility\n\n* Package Support: JupyterLite offers a lightweight, browser-based implementation of the JupyterLab interface, which, while versatile, may not support the full range of Python packages available in a standard Jupyter environment. This can restrict the use of certain specialized libraries necessary for advanced network analysis and simulation.",
      "metadata": {
        "user_expressions": [],
        "trusted": true
      }
    },
    {
      "cell_type": "markdown",
      "source": "## Graph Model Assumptions\n\n* Undirected Graphs: Current scope of the project is limited to undirected graphs. This simplification overlooks the complexities and nuances that directed graphs offer, potentially affecting the accuracy and applicability of the source detection methods in networks where directionality is significant.\n* Graph Topology Over Features: By focusing solely on graph topology, this project disregards additional features such as vertex-level attributes or edge weights, which could enhance the predictive power of the proposed methods and provide a better understanding of information spread.",
      "metadata": {
        "user_expressions": [],
        "trusted": true
      }
    },
    {
      "cell_type": "markdown",
      "source": "## Scalability in Numerical Simulations\n\n* Combinatorial Nature: While the algorithms applied have polynomial time complexity, the combinatorial aspects of the problem pose significant scalability challenges. The need to consider $N!$ configurations, which grows rapidly with the size of the network, makes numerical simulations for large $N$ computationally demanding and often impractical.",
      "metadata": {
        "user_expressions": [],
        "trusted": true
      }
    },
    {
      "cell_type": "markdown",
      "source": "## Data Availability\n\n* Limited Datasets: The availability of datasets, particularly for digital contact tracing, is limited. This scarcity hinders the ability to test and validate models thoroughly and may affect the development of robust and universally applicable source detection algorithms.",
      "metadata": {
        "user_expressions": [],
        "trusted": true
      }
    },
    {
      "cell_type": "markdown",
      "source": "## Breadth of Tools\n\n* Exploration of Graph Analytics Libraries: The project primarily utilizes certain graph analytics libraries. To enhance the robustness and versatility of the analysis, more libraries and tools should be explored, especially those optimized for different types of network structures or those offering more advanced simulation capabilities.",
      "metadata": {
        "user_expressions": [],
        "trusted": true
      }
    },
    {
      "cell_type": "markdown",
      "source": "## Additional Considerations\n\n* Real-World Applicability: The models and simulations this project has discussed are based on idealized conditions which may not fully capture the complexities of real-world social networks, where behaviors and information spread can be unpredictable and influenced by myriad external factors.\n\n* Dynamic Network Changes: Networks are rarely static; they evolve over time. Current approach of the project does not account for temporal changes in the network topology, which can significantly affect rumor spread and source detection.\n\n* Multi-source Rumors: In reality, rumors can originate from multiple sources, yet our methods are designed to identify a single source. Multi-source detection is a more complex problem that requires additional methodological development.\n\n* Validation and Verification: The validation of the algorithms against empirical data is a challenging task. Ensuring that the algorithms not only work well with synthetic data but also accurately represent real-world scenarios is critical for their application.\n\n* Ethical Considerations: Implications of the project in terms of privacy, especially in the context of contact tracing, require careful consideration. Ethical guidelines and privacy-preserving mechanisms should be an integral part of the development process.",
      "metadata": {
        "user_expressions": [],
        "trusted": true
      }
    },
    {
      "cell_type": "markdown",
      "source": "In conclusion, while the project makes significant strides in addressing the issue of rumor source detection in the context of an infodemic, these limitations highlight the need for ongoing research, development, and collaboration across disciplines to refine the methodologies and extend their applicability. The recognition of these challenges is the first step towards developing more sophisticated, scalable, and effective tools for combating misinformation.",
      "metadata": {
        "user_expressions": [],
        "trusted": true
      }
    }
  ]
}